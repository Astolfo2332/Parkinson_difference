{
 "cells": [
  {
   "cell_type": "code",
   "execution_count": 1,
   "metadata": {},
   "outputs": [],
   "source": [
    "#libreria para manejo de NDARRAY\n",
    "import numpy as np;\n",
    "import scipy as sp\n",
    "#libreria para graficar\n",
    "import matplotlib.pyplot as plt\n",
    "#Lector de archivos csv\n",
    "from csv import reader as reader_csv;\n",
    "import scipy.signal as signal;\n",
    "import spacy\n",
    "import scipy.io as sio\n",
    "import scipy.stats as stats\n",
    "from sympy import symbols\n",
    "import os\n",
    "import sympy as sym\n",
    "import pandas as pd\n",
    "from statsmodels.stats.diagnostic import lilliefors\n",
    "from scipy.stats import mannwhitneyu\n",
    "from scipy.stats import levene\n",
    "import pingouin as pg"
   ]
  },
  {
   "cell_type": "code",
   "execution_count": 3,
   "metadata": {},
   "outputs": [
    {
     "name": "stdout",
     "output_type": "stream",
     "text": [
      "Todo cargado\n"
     ]
    }
   ],
   "source": [
    "ruta_carpeta = '../control'\n",
    "\n",
    "# Obtener la lista de archivos en la carpeta\n",
    "lista_archivos = os.listdir(ruta_carpeta)\n",
    "\n",
    "# Crear una matriz vacía para almacenar los datos\n",
    "datos_matriz = [] # num_columnas es el número de columnas en los datos\n",
    "\n",
    "# Iterar a través de cada archivo y agregar los datos a la matriz\n",
    "for archivo in lista_archivos:\n",
    "    # Verificar que el archivo sea de tipo .mat\n",
    "    if archivo.endswith('.mat'):\n",
    "        # Cargar los datos del archivo\n",
    "        mat_contents = sio.loadmat(os.path.join(ruta_carpeta, archivo))\n",
    "        data = mat_contents['data']\n",
    "        senal_continua = np.reshape(data,(data.shape[0],data.shape[1]*data.shape[2]),order='F')\n",
    "        # Agregar los datos a la matriz\n",
    "        datos_matriz.append(senal_continua)\n",
    "\n",
    "ruta_carpeta = '../parkinson'\n",
    "lista_archivos = os.listdir(ruta_carpeta)\n",
    "datos_parkinson=[]\n",
    "for archivo in lista_archivos:\n",
    "    # Verificar que el archivo sea de tipo .mat\n",
    "    if archivo.endswith('.mat'):\n",
    "        # Cargar los datos del archivo\n",
    "        mat_contents = sio.loadmat(os.path.join(ruta_carpeta, archivo))\n",
    "        data = mat_contents['data']\n",
    "        senal_continua = np.reshape(data,(data.shape[0],data.shape[1]*data.shape[2]),order='F')\n",
    "        # Agregar los datos a la matriz\n",
    "        datos_parkinson.append(senal_continua)\n",
    "print(\"Todo cargado\")"
   ]
  }
 ],
 "metadata": {
  "kernelspec": {
   "display_name": "base",
   "language": "python",
   "name": "python3"
  },
  "language_info": {
   "codemirror_mode": {
    "name": "ipython",
    "version": 3
   },
   "file_extension": ".py",
   "mimetype": "text/x-python",
   "name": "python",
   "nbconvert_exporter": "python",
   "pygments_lexer": "ipython3",
   "version": "3.9.13"
  },
  "orig_nbformat": 4
 },
 "nbformat": 4,
 "nbformat_minor": 2
}
